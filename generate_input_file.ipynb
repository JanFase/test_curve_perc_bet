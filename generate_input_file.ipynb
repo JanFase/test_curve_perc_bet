{
 "cells": [
  {
   "cell_type": "code",
   "execution_count": null,
   "id": "975c7e15",
   "metadata": {},
   "outputs": [],
   "source": [
    "print('Ha die Jan!')"
   ]
  },
  {
   "cell_type": "code",
   "execution_count": null,
   "id": "360b4dbc",
   "metadata": {},
   "outputs": [],
   "source": [
    "import csv\n",
    "\n",
    "from datetime import datetime, timedelta\n",
    "    \n",
    "d = datetime.today() - timedelta(days=days_to_subtract)\n",
    "colors = ['yellow', 'brown', 'black', 'orange', 'green', 'blue']\n",
    "contactpersons = ['Piet', 'Klaas', 'Frits', 'Willem', 'Olaf', 'Pascal', 'Hein', 'Oscar', 'Ruud']\n",
    "    \n",
    "with open (\"data/input_file.csv\", \"w\", encoding='UTF8') as out_file:\n",
    "\n",
    "    writer = csv.writer(out_file)\n",
    "    \n",
    "    #write header\n",
    "    header = ['id', 'name', 'color', 'contactperson']\n",
    "    writer.writerow(header)\n",
    "\n",
    "    for x in range(500000):\n",
    "    \n",
    "        id = ('00000000000' + str(x))[-10:]\n",
    "        \n",
    "        name = 'name_' + id\n",
    "        \n",
    "        color = colors[round((len(colors) - 1) * rnd.random())]\n",
    "\n",
    "        contactperson = contactpersons[round((len(colors) - 1) * rnd.random())]\n",
    "\n",
    "        row = [id, name, color, contactperson]\n",
    "        \n",
    "        writer.writerow(row)\n",
    "\n",
    "print('done')"
   ]
  },
  {
   "cell_type": "code",
   "execution_count": null,
   "id": "ff1a35ad",
   "metadata": {},
   "outputs": [],
   "source": [
    "!cat \"data/input_file.csv\"\n",
    "!head \"data/input_file.csv\""
   ]
  },
  {
   "cell_type": "code",
   "execution_count": null,
   "id": "33ba6e48",
   "metadata": {},
   "outputs": [],
   "source": []
  }
 ],
 "metadata": {
  "kernelspec": {
   "display_name": "Python 3 (ipykernel)",
   "language": "python",
   "name": "python3"
  },
  "language_info": {
   "codemirror_mode": {
    "name": "ipython",
    "version": 3
   },
   "file_extension": ".py",
   "mimetype": "text/x-python",
   "name": "python",
   "nbconvert_exporter": "python",
   "pygments_lexer": "ipython3",
   "version": "3.9.2"
  }
 },
 "nbformat": 4,
 "nbformat_minor": 5
}
